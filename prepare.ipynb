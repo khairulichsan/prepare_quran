{
 "cells": [
  {
   "cell_type": "markdown",
   "metadata": {},
   "source": [
    "# Preparing Data Qara'a Qur'an<br>\n",
    "pertama anda harus datang ke website https://qul.tarteel.ai/resources/recitation lalu mendownload file sqlite.bz2<br>\n",
    "untuk spesifikasinya yang mana harus <b>Ayah by Ayah<b>, <b>Recitation<b>, <b>Murattal<b>, <b>Hafs<b>, <b>With Segments<b><br>\n",
    "folder downloadnya letak di folder <i>./bz2/<i>"
   ]
  },
  {
   "cell_type": "markdown",
   "metadata": {},
   "source": [
    "### 1. Extract Bz2<br>\n",
    "extract file.bz2 pada folder <i>./bz2/<i> hingga kita mendapatkan file sqlitenya lalu letakkan di folder <i>sqlite/<i>"
   ]
  },
  {
   "cell_type": "code",
   "execution_count": null,
   "metadata": {},
   "outputs": [],
   "source": [
    "import os\n",
    "import bz2\n",
    "import shutil\n",
    "\n",
    "# Folder tempat file berada\n",
    "folder_path = \"./bz2/\"  # Ganti dengan lokasi file kamu\n",
    "\n",
    "# Loop untuk mengekstrak semua file .bz2\n",
    "for file in os.listdir(folder_path):\n",
    "    if file.endswith(\".bz2\"):\n",
    "        file_path = os.path.join(folder_path, file)\n",
    "        extracted_path = file_path[:-4]  # Menghapus .bz2 dari nama file\n",
    "\n",
    "        # Membuka file .bz2 dan menulis hasil ekstraksi\n",
    "        with bz2.BZ2File(file_path, 'rb') as f_in, open(f\"sqlite/{extracted_path}\", 'wb') as f_out:\n",
    "            shutil.copyfileobj(f_in, f_out)\n",
    "\n",
    "        print(f\"Extracted: {file} -> {extracted_path}\")"
   ]
  },
  {
   "cell_type": "markdown",
   "metadata": {},
   "source": [
    "### 2.Convert to JSON<br>\n",
    "Ubah file sqlite menjadi JSON serti kita perbaiki urutan angka ayatnya "
   ]
  },
  {
   "cell_type": "code",
   "execution_count": 9,
   "metadata": {},
   "outputs": [
    {
     "name": "stdout",
     "output_type": "stream",
     "text": [
      "Converted: Abdul Basit Abdul Samad.sqlite → ./json/Abdul Basit Abdul Samad.json\n",
      "JSON diperbaiki dan disimpan ke: ./json/Abdul Basit Abdul Samad.json\n",
      "Converted: Abdul Rahman Al-Sudais.sqlite → ./json/Abdul Rahman Al-Sudais.json\n",
      "JSON diperbaiki dan disimpan ke: ./json/Abdul Rahman Al-Sudais.json\n",
      "Converted: Abu Bakr al-Shatri.sqlite → ./json/Abu Bakr al-Shatri.json\n",
      "JSON diperbaiki dan disimpan ke: ./json/Abu Bakr al-Shatri.json\n",
      "Converted: Hani ar-Rifai Recitation.sqlite → ./json/Hani ar-Rifai Recitation.json\n",
      "JSON diperbaiki dan disimpan ke: ./json/Hani ar-Rifai Recitation.json\n",
      "Converted: Khalifa Al Tunaiji.sqlite → ./json/Khalifa Al Tunaiji.json\n",
      "JSON diperbaiki dan disimpan ke: ./json/Khalifa Al Tunaiji.json\n",
      "Converted: Maher Al-Mu'aiqly.sqlite → ./json/Maher Al-Mu'aiqly.json\n",
      "JSON diperbaiki dan disimpan ke: ./json/Maher Al-Mu'aiqly.json\n",
      "Converted: Mahmoud Khalil Al-Husary.sqlite → ./json/Mahmoud Khalil Al-Husary.json\n",
      "JSON diperbaiki dan disimpan ke: ./json/Mahmoud Khalil Al-Husary.json\n",
      "Converted: Mishari Rashid al-`Afasy.sqlite → ./json/Mishari Rashid al-`Afasy.json\n",
      "JSON diperbaiki dan disimpan ke: ./json/Mishari Rashid al-`Afasy.json\n",
      "Converted: Mohamed al-Tablawi Recitation.sqlite → ./json/Mohamed al-Tablawi Recitation.json\n",
      "JSON diperbaiki dan disimpan ke: ./json/Mohamed al-Tablawi Recitation.json\n",
      "Converted: Muhammad Siddiq Al-Minshawi.sqlite → ./json/Muhammad Siddiq Al-Minshawi.json\n",
      "JSON diperbaiki dan disimpan ke: ./json/Muhammad Siddiq Al-Minshawi.json\n",
      "Converted: Saad al Ghamdi.sqlite → ./json/Saad al Ghamdi.json\n",
      "JSON diperbaiki dan disimpan ke: ./json/Saad al Ghamdi.json\n",
      "Converted: Saud Al-Shuraim.sqlite → ./json/Saud Al-Shuraim.json\n",
      "JSON diperbaiki dan disimpan ke: ./json/Saud Al-Shuraim.json\n",
      "Converted: Yasser Al-Dosari.sqlite → ./json/Yasser Al-Dosari.json\n",
      "JSON diperbaiki dan disimpan ke: ./json/Yasser Al-Dosari.json\n",
      "Semua SQLite telah dikonversi ke JSON dan diperbaiki!\n"
     ]
    }
   ],
   "source": [
    "import os\n",
    "import sqlite3\n",
    "import json\n",
    "\n",
    "# Define source and destination directories\n",
    "sqlite_dir = \"./sqlite\"\n",
    "json_dir = \"./json\"\n",
    "\n",
    "# Create the JSON output directory if it doesn't exist\n",
    "os.makedirs(json_dir, exist_ok=True)\n",
    "\n",
    "# Get all SQLite database files\n",
    "sqlite_files = [f for f in os.listdir(sqlite_dir) if f.endswith(\".sqlite\")]\n",
    "\n",
    "def fix_json_structure(input_file, output_file):\n",
    "    \"\"\"Memperbaiki struktur JSON agar ayat dalam setiap surah memiliki nomor urut yang benar.\"\"\"\n",
    "    with open(input_file, \"r\", encoding=\"utf-8\") as f:\n",
    "        data = json.load(f)\n",
    "    \n",
    "    fixed_verses = []\n",
    "    current_surah = None\n",
    "    ayah_number = 1\n",
    "\n",
    "    for verse in data.get(\"verses\", []):\n",
    "        if verse[\"surah_number\"] != current_surah:\n",
    "            current_surah = verse[\"surah_number\"]\n",
    "            ayah_number = 1  # Reset nomor ayat jika surah berubah\n",
    "        \n",
    "        verse[\"ayah_number\"] = ayah_number\n",
    "        fixed_verses.append(verse)\n",
    "        ayah_number += 1\n",
    "    \n",
    "    # Simpan hasil perbaikan ke file baru\n",
    "    with open(output_file, \"w\", encoding=\"utf-8\") as f:\n",
    "        json.dump({\"verses\": fixed_verses}, f, indent=4, ensure_ascii=False)\n",
    "    \n",
    "    print(f\"JSON diperbaiki dan disimpan ke: {output_file}\")\n",
    "\n",
    "for sqlite_file in sqlite_files:\n",
    "    sqlite_path = os.path.join(sqlite_dir, sqlite_file)\n",
    "    json_path = os.path.join(json_dir, f\"{sqlite_file.replace('.sqlite', '.json')}\")\n",
    "    json_fixed_path = os.path.join(json_dir, f\"{sqlite_file.replace('.sqlite', '.json')}\")\n",
    "\n",
    "    # Connect to SQLite database\n",
    "    conn = sqlite3.connect(sqlite_path)\n",
    "    cursor = conn.cursor()\n",
    "\n",
    "    # Fetch all table names\n",
    "    cursor.execute(\"SELECT name FROM sqlite_master WHERE type='table';\")\n",
    "    tables = cursor.fetchall()\n",
    "\n",
    "    db_dict = {}\n",
    "\n",
    "    # Iterate through each table and fetch data\n",
    "    for table in tables:\n",
    "        table_name = table[0]\n",
    "        cursor.execute(f\"SELECT * FROM {table_name}\")\n",
    "        columns = [desc[0] for desc in cursor.description]  # Get column names\n",
    "        rows = cursor.fetchall()\n",
    "        \n",
    "        # Convert rows into list of dictionaries\n",
    "        table_data = [dict(zip(columns, row)) for row in rows]\n",
    "        \n",
    "        # Store in dictionary\n",
    "        db_dict[table_name] = table_data\n",
    "\n",
    "    # Close connection\n",
    "    conn.close()\n",
    "\n",
    "    # Write to JSON file\n",
    "    with open(json_path, \"w\", encoding=\"utf-8\") as json_file:\n",
    "        json.dump(db_dict, json_file, indent=4, ensure_ascii=False)\n",
    "\n",
    "    print(f\"Converted: {sqlite_file} → {json_path}\")\n",
    "\n",
    "    # Fix the JSON structure\n",
    "    fix_json_structure(json_path, json_fixed_path)\n",
    "\n",
    "print(\"Semua SQLite telah dikonversi ke JSON dan diperbaiki!\")\n"
   ]
  }
 ],
 "metadata": {
  "kernelspec": {
   "display_name": "testing",
   "language": "python",
   "name": "python3"
  },
  "language_info": {
   "codemirror_mode": {
    "name": "ipython",
    "version": 3
   },
   "file_extension": ".py",
   "mimetype": "text/x-python",
   "name": "python",
   "nbconvert_exporter": "python",
   "pygments_lexer": "ipython3",
   "version": "3.8.20"
  }
 },
 "nbformat": 4,
 "nbformat_minor": 2
}
